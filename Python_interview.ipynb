{
  "nbformat": 4,
  "nbformat_minor": 0,
  "metadata": {
    "colab": {
      "private_outputs": true,
      "provenance": [],
      "toc_visible": true,
      "authorship_tag": "ABX9TyMfCkn5FApCitPxMDLcaQbx",
      "include_colab_link": true
    },
    "kernelspec": {
      "name": "python3",
      "display_name": "Python 3"
    },
    "language_info": {
      "name": "python"
    }
  },
  "cells": [
    {
      "cell_type": "markdown",
      "metadata": {
        "id": "view-in-github",
        "colab_type": "text"
      },
      "source": [
        "<a href=\"https://colab.research.google.com/github/Srivarshini28/python/blob/main/Python_interview.ipynb\" target=\"_parent\"><img src=\"https://colab.research.google.com/assets/colab-badge.svg\" alt=\"Open In Colab\"/></a>"
      ]
    },
    {
      "cell_type": "markdown",
      "source": [
        "# BASIC PROBLEMS"
      ],
      "metadata": {
        "id": "9ZIdyfW64MvB"
      }
    },
    {
      "cell_type": "markdown",
      "source": [
        "## **REVERSE A STRING**"
      ],
      "metadata": {
        "id": "Mp_pM3mqb_oQ"
      }
    },
    {
      "cell_type": "code",
      "source": [
        "def reverse_string(s):\n",
        "    return s[::-1]\n",
        "\n",
        "print(reverse_string(\"hello\"))"
      ],
      "metadata": {
        "id": "0LWwSG8lcV9S"
      },
      "execution_count": null,
      "outputs": []
    },
    {
      "cell_type": "code",
      "source": [
        "def reverse_string(s):\n",
        "    l,r = 0,len(s)-1\n",
        "    while l < r:\n",
        "      s[l],s[r] = s[r],s[l]\n",
        "      l+=1\n",
        "      r-=1\n",
        "    return s\n",
        "\n",
        "print(reverse_string(['q','w','e']))"
      ],
      "metadata": {
        "id": "UHbRnkFf3sGR"
      },
      "execution_count": null,
      "outputs": []
    },
    {
      "cell_type": "code",
      "source": [
        "def reverse_string(s):\n",
        "    s = list(s)\n",
        "    l, r = 0, len(s) - 1\n",
        "    while l < r:\n",
        "        s[l], s[r] = s[r], s[l]\n",
        "        l += 1\n",
        "        r -= 1\n",
        "    return ''.join(s)\n",
        "\n",
        "print(reverse_string(\"hello\"))  # Output: \"olleh\""
      ],
      "metadata": {
        "id": "Rv_o6syX4Wnf"
      },
      "execution_count": null,
      "outputs": []
    },
    {
      "cell_type": "code",
      "source": [
        "#reverse a entire string\n",
        "s = \"hello123\"\n",
        "rev = \"\"\n",
        "for ch in s:\n",
        "    rev = ch + rev\n",
        "print(rev)"
      ],
      "metadata": {
        "id": "C9-x0SKMontC"
      },
      "execution_count": null,
      "outputs": []
    },
    {
      "cell_type": "markdown",
      "source": [
        "## **PALINDROME**"
      ],
      "metadata": {
        "id": "t-9fniRocpZq"
      }
    },
    {
      "cell_type": "code",
      "source": [
        "def is_palindrome(s):\n",
        "    if( s == s[::-1]):\n",
        "          print(\"it is palindrome\")\n",
        "    else:\n",
        "          print(\"it is not a palindrome\")\n",
        "\n",
        "is_palindrome(\"racecar\")"
      ],
      "metadata": {
        "id": "zWCxvoeqcpji"
      },
      "execution_count": null,
      "outputs": []
    },
    {
      "cell_type": "code",
      "source": [
        "def is_palindrome(s):\n",
        "    s = s.lower()\n",
        "    s = list(s)\n",
        "    l,r = 0,len(s)-1\n",
        "    while l<r:\n",
        "      s[l],s[r] = s[r],s[l]\n",
        "      l+=1\n",
        "      r-=1\n",
        "    return ''.join(s)\n",
        "\n",
        "rev = is_palindrome(\"mom\")\n",
        "if rev == \"mom\":\n",
        "  print(\"it is palindrome\")\n",
        "else:\n",
        "  print(\"it is not a palindrome\")"
      ],
      "metadata": {
        "id": "Drxs87BH4zPO"
      },
      "execution_count": null,
      "outputs": []
    },
    {
      "cell_type": "markdown",
      "source": [
        "## **PRIME NUMBER**"
      ],
      "metadata": {
        "id": "BVlM_3R1bZp7"
      }
    },
    {
      "cell_type": "code",
      "source": [
        "def prime(n):\n",
        "  for i in range(2, n):\n",
        "    if n%i == 0:\n",
        "      print(\"not prime\")\n",
        "      break\n",
        "  else:\n",
        "    print(\"prime\")\n",
        "\n",
        "prime(11)"
      ],
      "metadata": {
        "id": "TF3eQKjYeeok"
      },
      "execution_count": null,
      "outputs": []
    },
    {
      "cell_type": "code",
      "execution_count": null,
      "metadata": {
        "id": "m7kKaCyXbUX6"
      },
      "outputs": [],
      "source": [
        "def prime(m,n):\n",
        "    for i in range(m,n+1):\n",
        "        flag=0\n",
        "        for j in range(2,i):\n",
        "            if(i%j==0):\n",
        "                flag+=1\n",
        "        if(flag==0):\n",
        "            print(i)\n",
        "\n",
        "m=int(input(\"starting no:\"))\n",
        "n=int(input(\"ending no:\"))\n",
        "prime(m,n)"
      ]
    },
    {
      "cell_type": "code",
      "source": [
        "num = 11\n",
        "# Negative numbers, 0 and 1 are not primes\n",
        "if num > 1:\n",
        "    # Iterate from 2 to n // 2\n",
        "    for i in range(2, (num//2)+1):\n",
        "        # If num is divisible by any number between\n",
        "        # 2 and n / 2, it is not prime\n",
        "        if (num % i) == 0:\n",
        "            print(num, \"is not a prime number\")\n",
        "            break\n",
        "    else:\n",
        "        print(num, \"is a prime number\")\n",
        "else:\n",
        "    print(num, \"is not a prime number\")"
      ],
      "metadata": {
        "id": "8YN3aHf9tT1c"
      },
      "execution_count": null,
      "outputs": []
    },
    {
      "cell_type": "markdown",
      "source": [
        "## **FACTORS**"
      ],
      "metadata": {
        "id": "AI-8w_1AdHLm"
      }
    },
    {
      "cell_type": "code",
      "source": [
        "#FINDING FACTORS OF A GIVEN NUMBER\n",
        "def factors(x):\n",
        "   print(\"The factors of\",x,\"are:\")\n",
        "   for i in range(1, x + 1):\n",
        "       if x % i == 0:\n",
        "           print(i)\n",
        "no=int(input(\"enter a no:\"))\n",
        "factors(no)"
      ],
      "metadata": {
        "id": "RguIOyYedEKo"
      },
      "execution_count": null,
      "outputs": []
    },
    {
      "cell_type": "markdown",
      "source": [
        "## **FIBONACCI SEIRES**"
      ],
      "metadata": {
        "id": "GAZ0q20Qbnx4"
      }
    },
    {
      "cell_type": "code",
      "source": [
        "def fibonacci_series(n):\n",
        "    print(\"\\t\\tFIBONACCI SERIES\")\n",
        "    first = 0\n",
        "    second = 1\n",
        "    if n <= 0:\n",
        "        print(\"Please enter a positive integer.\")\n",
        "        return\n",
        "    print(first, second, end=\" \")\n",
        "    for i in range(2, n):\n",
        "        temp = first + second\n",
        "        first = second\n",
        "        second = temp\n",
        "        print(temp, end=\" \")\n",
        "# Example usage\n",
        "n = int(input(\"Enter the number of terms to print: \"))\n",
        "fibonacci_series(n)"
      ],
      "metadata": {
        "id": "3-Kcmh3wbmZh"
      },
      "execution_count": null,
      "outputs": []
    },
    {
      "cell_type": "code",
      "source": [
        "def fib(n):\n",
        "  a,b = 0,1\n",
        "  print(a,b, end=\" \")\n",
        "  for i in range(2,n+1):\n",
        "    a,b=b,a+b\n",
        "    print(a,end=\" \")\n",
        "fib(5)"
      ],
      "metadata": {
        "id": "YfAlseAZl4MH"
      },
      "execution_count": null,
      "outputs": []
    },
    {
      "cell_type": "code",
      "source": [
        "def fibo(n):\n",
        "  if n < 0:\n",
        "    return 0\n",
        "  elif n == 1 or n == 2:\n",
        "    return n\n",
        "  else:\n",
        "    return fibo(n - 1) + fibo(n - 2)\n",
        "\n",
        "print(fibo(5))\n"
      ],
      "metadata": {
        "id": "erXDI46Vidr7"
      },
      "execution_count": null,
      "outputs": []
    },
    {
      "cell_type": "markdown",
      "source": [
        "## **FACTORIAL**"
      ],
      "metadata": {
        "id": "EULDI_IIb1dW"
      }
    },
    {
      "cell_type": "code",
      "source": [
        "def factorial(n):\n",
        "    if n == 0 or n == 1:\n",
        "        return 1\n",
        "    else:\n",
        "        return n * factorial(n - 1)\n",
        "print(factorial(5))  # Output: 120"
      ],
      "metadata": {
        "id": "f-aG7mcfb4Wg"
      },
      "execution_count": null,
      "outputs": []
    },
    {
      "cell_type": "markdown",
      "source": [
        "## **NCR**"
      ],
      "metadata": {
        "id": "JvHSSWfd53ht"
      }
    },
    {
      "cell_type": "code",
      "source": [
        "def fact(n):\n",
        "  if n<=1:\n",
        "    return 1\n",
        "  else:\n",
        "    return n*fact(n-1)\n",
        "n=4\n",
        "r=2\n",
        "r1 = fact(n)\n",
        "r2 = fact(r)\n",
        "r3 = fact(n-r)\n",
        "ncr = r1/(r2*r3)\n",
        "print(ncr)"
      ],
      "metadata": {
        "id": "qrp6urmQ4T8V"
      },
      "execution_count": null,
      "outputs": []
    },
    {
      "cell_type": "markdown",
      "source": [
        "## **PERFECT NUMBER**"
      ],
      "metadata": {
        "id": "64umRIS1dV9f"
      }
    },
    {
      "cell_type": "markdown",
      "source": [
        "A perfect number is a positive integer that is equal to the sum of its positive proper divisors, or divisors excluding the number itself\n",
        "\n",
        "\n",
        "eg : 6(1,2,3,6) = 1+2+3"
      ],
      "metadata": {
        "id": "u2qC-z3I-XOf"
      }
    },
    {
      "cell_type": "code",
      "source": [
        "#To check whether the given number is perfect number\n",
        "print(\"\\t\\tPERFECT NUMBER CHECKING\")\n",
        "\n",
        "def perfect(n):\n",
        "  sum = 0\n",
        "  for i in range(1,n):\n",
        "    if n % i == 0:\n",
        "      sum += i\n",
        "  if n == sum:\n",
        "      print(n,\" is a perfect number\")\n",
        "  else:\n",
        "      print(n,\" is not a perfect number\")\n",
        "\n",
        "n = int(input(\"Enter a number: \"))\n",
        "perfect(n)"
      ],
      "metadata": {
        "id": "WGAeeyY1ddEA"
      },
      "execution_count": null,
      "outputs": []
    },
    {
      "cell_type": "markdown",
      "source": [
        "## **ARMSTRONG NUMBER**"
      ],
      "metadata": {
        "id": "FYDdrER7eJWV"
      }
    },
    {
      "cell_type": "code",
      "source": [
        "def is_armstrong_number(n):\n",
        "    s = 0\n",
        "    m = n\n",
        "    length = len(str(n))\n",
        "\n",
        "    while n > 0:\n",
        "        r = n % 10\n",
        "        s += (r ** length)\n",
        "        n = n // 10\n",
        "\n",
        "    return s\n",
        "\n",
        "n = int(input(\"Enter a number: \"))\n",
        "s = is_armstrong_number(n)\n",
        "if n == s:\n",
        "    print(f\"{n} is an Armstrong number\")\n",
        "else:\n",
        "    print(f\"{n} is not an Armstrong number\")"
      ],
      "metadata": {
        "id": "AwxVB8Luej4l"
      },
      "execution_count": null,
      "outputs": []
    },
    {
      "cell_type": "markdown",
      "source": [
        "## **GCD and LCM**"
      ],
      "metadata": {
        "id": "wKC0EGK4noRa"
      }
    },
    {
      "cell_type": "code",
      "source": [
        "def gcd(a, b):\n",
        "    while b:\n",
        "        a, b = b, a % b\n",
        "    return a\n",
        "\n",
        "def lcm(x,y,gc):\n",
        "  lcm = (x * y) // gc\n",
        "  return lcm\n",
        "\n",
        "gc = (gcd(48, 18))  # Output: 6\n",
        "print(gc)\n",
        "print(\"lcm:\", lcm(48,18,gc))"
      ],
      "metadata": {
        "id": "dVAmaadwnqKf"
      },
      "execution_count": null,
      "outputs": []
    },
    {
      "cell_type": "markdown",
      "source": [
        "## **REVERSE A NUMBER**"
      ],
      "metadata": {
        "id": "z5KcOJreoe_h"
      }
    },
    {
      "cell_type": "code",
      "source": [
        "n=453\n",
        "num1=0\n",
        "while n>0:\n",
        "    r=n%10\n",
        "    num1=num1*10+r\n",
        "    n=n//10\n",
        "print(num1)"
      ],
      "metadata": {
        "id": "TCFV7y3Boigi"
      },
      "execution_count": null,
      "outputs": []
    },
    {
      "cell_type": "markdown",
      "source": [
        "## **ODD OR EVEN**"
      ],
      "metadata": {
        "id": "d1lYFepIo2b0"
      }
    },
    {
      "cell_type": "code",
      "source": [
        "def odd_even(arr):\n",
        "    odd = []\n",
        "    even = []\n",
        "    oddsum = 0\n",
        "    evensum = 0\n",
        "    for j in arr:\n",
        "        if j % 2 == 0:\n",
        "            even = even + [j]\n",
        "            evensum += j\n",
        "        else:\n",
        "            odd = odd + [j]\n",
        "            oddsum += j\n",
        "    print(odd, oddsum)\n",
        "    print(even, evensum)\n",
        "\n",
        "arr = [1, 2, 3, 4, 5]\n",
        "odd_even(arr)\n"
      ],
      "metadata": {
        "id": "zHRM2ndHt1-H"
      },
      "execution_count": null,
      "outputs": []
    },
    {
      "cell_type": "markdown",
      "source": [
        "## **USE DEFINED ARRAY**"
      ],
      "metadata": {
        "id": "7hnwfpn3o8hj"
      }
    },
    {
      "cell_type": "code",
      "source": [
        "n=int(input(\"Enter the size of the array:\"))\n",
        "arr=[]\n",
        "for i in range(0,n):\n",
        "    no=int(input(\"enter the no to insert in array:\"))\n",
        "    arr = arr + [no]      # adding as a list like [2] not as 2 into an array\n",
        "print(arr)"
      ],
      "metadata": {
        "id": "YWRSR2wspDNn"
      },
      "execution_count": null,
      "outputs": []
    },
    {
      "cell_type": "markdown",
      "source": [
        "## **REMOVE DUPLICATES**"
      ],
      "metadata": {
        "id": "_CLH3CVm2_WO"
      }
    },
    {
      "cell_type": "code",
      "source": [
        "def remove_duplicates(nums):\n",
        "    i = 0\n",
        "    for j in range(1, len(nums)):\n",
        "        if nums[j] != nums[i]:\n",
        "            i += 1\n",
        "            nums[i] = nums[j]\n",
        "    return i + 1\n",
        "nums = [1, 1, 2, 3, 3, 4]\n",
        "length = remove_duplicates(nums)\n",
        "print(\"Length of unique array:\", length)\n",
        "print(\"Modified array:\", nums[:length])\n"
      ],
      "metadata": {
        "id": "gjmPFyFo3EPs"
      },
      "execution_count": null,
      "outputs": []
    },
    {
      "cell_type": "markdown",
      "source": [
        "## **FIND THE SUBSTRING**"
      ],
      "metadata": {
        "id": "UvHjYfvs3LP4"
      }
    },
    {
      "cell_type": "code",
      "source": [
        "def strStr(haystack, needle):\n",
        "    n, m = len(haystack), len(needle)\n",
        "    for i in range(n - m + 1):\n",
        "        if haystack[i:i + m] == needle:\n",
        "            return i\n",
        "    return -1\n",
        "\n",
        "print(strStr(\"hello\", \"ll\"))  # Output: 2\n",
        "print(strStr(['a', 'a', 'b', 'b', 'a'], ['b', 'b', 'a']))  # Output: -1\n",
        "print(strStr(\"hello\", \"\"))    # Output: 0"
      ],
      "metadata": {
        "id": "c2fNL5zK3OT5"
      },
      "execution_count": null,
      "outputs": []
    },
    {
      "cell_type": "markdown",
      "source": [
        "## **JUMP GAME**"
      ],
      "metadata": {
        "id": "iEttgHQr3SX5"
      }
    },
    {
      "cell_type": "code",
      "source": [
        "def can_jump(nums):\n",
        "    max_reachable = 0\n",
        "    for i, jump in enumerate(nums):\n",
        "        if i > max_reachable:\n",
        "            return False\n",
        "        max_reachable = max(max_reachable, i + jump)\n",
        "        if max_reachable >= len(nums) - 1:\n",
        "            return True\n",
        "    return False\n",
        "nums = [2, 3, 1, 1, 4]\n",
        "print(can_jump(nums))  # Output: True\n",
        "\n",
        "nums = [3, 2, 1, 0, 4]\n",
        "print(can_jump(nums))  # Output: False\n"
      ],
      "metadata": {
        "id": "W2n_yHFR3UJj"
      },
      "execution_count": null,
      "outputs": []
    },
    {
      "cell_type": "markdown",
      "source": [
        "## **ROTATE ARRAY**"
      ],
      "metadata": {
        "id": "0t1q7XAc3X48"
      }
    },
    {
      "cell_type": "code",
      "source": [
        "def rotate_right(arr, k):\n",
        "    if not arr or k <= 0:\n",
        "        return arr\n",
        "    n = len(arr)\n",
        "    k %= n\n",
        "    return arr[-k:] + arr[:-k]\n",
        "arr = [1, 2, 3, 4, 5]\n",
        "k = 2\n",
        "result = rotate_right(arr, k)\n",
        "print(result)"
      ],
      "metadata": {
        "id": "Ng_zJSek3a_A"
      },
      "execution_count": null,
      "outputs": []
    },
    {
      "cell_type": "markdown",
      "source": [
        "# SORT AND SEARCHING"
      ],
      "metadata": {
        "id": "KBu5bwDQ4WpC"
      }
    },
    {
      "cell_type": "markdown",
      "source": [
        "**BINARY SEARCH  - search insert portion**"
      ],
      "metadata": {
        "id": "FpIN6IufDR4U"
      }
    },
    {
      "cell_type": "code",
      "source": [
        "def binary_search(arr, target):\n",
        "    low = 0\n",
        "    high = len(arr) - 1\n",
        "    while low <= high:\n",
        "        mid = (low + high) // 2\n",
        "        if arr[mid] == target:\n",
        "            return mid\n",
        "        elif arr[mid] < target:\n",
        "            low = mid + 1\n",
        "        else:\n",
        "            high = mid - 1\n",
        "    return -1\n",
        "\n",
        "print(binary_search([1, 2, 3, 4, 5,6,7], 5))  # Output: 4"
      ],
      "metadata": {
        "id": "mgOumTL0DMT2"
      },
      "execution_count": null,
      "outputs": []
    },
    {
      "cell_type": "markdown",
      "source": [
        "**BUBBLE SORT(sort)**\n",
        "Bubble Sort repeatedly swaps adjacent elements if they are in the wrong order. It continues this process until the array is sorted."
      ],
      "metadata": {
        "id": "OavfCVxUC9tu"
      }
    },
    {
      "cell_type": "code",
      "source": [
        "def bubble_sort(arr):\n",
        "    n = len(arr)\n",
        "    for i in range(n):\n",
        "        for j in range(n-i-1):\n",
        "            if arr[j] > arr[j+1]:\n",
        "                arr[j], arr[j+1] = arr[j+1], arr[j]\n",
        "    return arr\n",
        "\n",
        "sorted_arr = bubble_sort([64, 34, 25, 90, 12, 22, 11])  # Output: [11, 12, 22, 25, 34, 64, 90]\n",
        "print(\"Sorted array: \",sorted_arr)\n",
        "# maximum number\n",
        "print(\"Max: \",sorted_arr[-1])\n",
        "# minimum number\n",
        "print(\"Min: \",sorted_arr[0])"
      ],
      "metadata": {
        "id": "PcOIP6sQDJXn"
      },
      "execution_count": null,
      "outputs": []
    },
    {
      "cell_type": "markdown",
      "source": [
        "**SELECTION SORT**\n",
        "\n",
        "Selection Sort repeatedly finds the minimum element from the unsorted part and moves it to the sorted part"
      ],
      "metadata": {
        "id": "bxjG1AAlKi4U"
      }
    },
    {
      "cell_type": "code",
      "source": [
        "def selection_sort(arr):\n",
        "    n = len(arr)\n",
        "    for i in range(n):\n",
        "        min_index = i\n",
        "        for j in range(i + 1, n):\n",
        "            if arr[j] < arr[min_index]:\n",
        "                min_index = j\n",
        "        arr[i], arr[min_index] = arr[min_index], arr[i]\n",
        "    return arr\n",
        "\n",
        "# Example usage\n",
        "print(selection_sort([64, 34, 25, 12, 22, 11, 90]))  # Output: [11, 12, 22, 25, 34, 64, 90]\n"
      ],
      "metadata": {
        "id": "j8aVP4jIGTUw"
      },
      "execution_count": null,
      "outputs": []
    },
    {
      "cell_type": "markdown",
      "source": [
        "**QUICK SORT**\n",
        "Quick Sort is a divide-and-conquer algorithm that selects a pivot element and partitions the array into two halves based on the pivot.\n",
        "\n"
      ],
      "metadata": {
        "id": "ubQe5BtUKq2Q"
      }
    },
    {
      "cell_type": "code",
      "source": [
        "def quick_sort(arr):\n",
        "    if len(arr) <= 1:\n",
        "        return arr\n",
        "    l = 0\n",
        "    h = len(arr) - 1\n",
        "    pivot = (l+h)//2\n",
        "    pivot = arr[pivot]\n",
        "\n",
        "    # pivot = arr[len(arr) // 2]\n",
        "    left = [x for x in arr if x < pivot]\n",
        "    middle = [x for x in arr if x == pivot]\n",
        "    right = [x for x in arr if x > pivot]\n",
        "    return quick_sort(left) + middle + quick_sort(right)\n",
        "\n",
        "# Example usage\n",
        "print(quick_sort([64, 34, 25, 12, 22, 11, 90]))  # Output: [11, 12, 22, 25, 34, 64, 90]"
      ],
      "metadata": {
        "id": "J2oOoLNBKuXY"
      },
      "execution_count": null,
      "outputs": []
    },
    {
      "cell_type": "markdown",
      "source": [
        "**MERGE SORT**\n",
        "Merge Sort is a divide-and-conquer algorithm that divides the array into halves, sorts them, and then merges them back together."
      ],
      "metadata": {
        "id": "8dh1OsKGK0Nc"
      }
    },
    {
      "cell_type": "code",
      "source": [
        "def merge_sort(arr):\n",
        "    if len(arr) > 1:\n",
        "        mid = len(arr) // 2\n",
        "        left_half = arr[:mid]\n",
        "        right_half = arr[mid:]\n",
        "\n",
        "        merge_sort(left_half)\n",
        "        merge_sort(right_half)\n",
        "\n",
        "        i = j = k = 0\n",
        "\n",
        "        while i < len(left_half) and j < len(right_half):\n",
        "            if left_half[i] < right_half[j]:\n",
        "                arr[k] = left_half[i]\n",
        "                i += 1\n",
        "            else:\n",
        "                arr[k] = right_half[j]\n",
        "                j += 1\n",
        "            k += 1\n",
        "\n",
        "        while i < len(left_half):\n",
        "            arr[k] = left_half[i]\n",
        "            i += 1\n",
        "            k += 1\n",
        "\n",
        "        while j < len(right_half):\n",
        "            arr[k] = right_half[j]\n",
        "            j += 1\n",
        "            k += 1\n",
        "\n",
        "    return arr\n",
        "\n",
        "# Example usage\n",
        "print(merge_sort([64, 34, 25, 12, 22, 11, 90]))  # Output: [11, 12, 22, 25, 34, 64, 90]"
      ],
      "metadata": {
        "id": "GPCj4q2LK15u"
      },
      "execution_count": null,
      "outputs": []
    },
    {
      "cell_type": "code",
      "source": [
        "# Student Management System using Classes\n",
        "\n",
        "class Student:\n",
        "    def __init__(self, student_id, name, age, grade):\n",
        "        self.student_id = student_id\n",
        "        self.name = name\n",
        "        self.age = age\n",
        "        self.grade = grade\n",
        "\n",
        "    def __str__(self):\n",
        "        return f\"ID: {self.student_id}, Name: {self.name}, Age: {self.age}, Grade: {self.grade}\"\n",
        "\n",
        "class StudentManagementSystem:\n",
        "    def __init__(self):\n",
        "        self.students = []\n",
        "\n",
        "    def add_student(self):\n",
        "        student_id = input(\"Enter Student ID: \")\n",
        "        name = input(\"Enter Student Name: \")\n",
        "        age = int(input(\"Enter Student Age: \"))\n",
        "        grade = input(\"Enter Student Grade: \")\n",
        "\n",
        "        student = Student(student_id, name, age, grade)\n",
        "        self.students.append(student)\n",
        "        print(\"Student added successfully!\")\n",
        "\n",
        "    def display_students(self):\n",
        "        if not self.students:\n",
        "            print(\"No students to display.\")\n",
        "            return\n",
        "\n",
        "        print(\"\\nList of Students:\")\n",
        "        for student in self.students:\n",
        "            print(student)\n",
        "\n",
        "    def update_student(self):\n",
        "        student_id = input(\"Enter Student ID to update: \")\n",
        "        for student in self.students:\n",
        "            if student.student_id == student_id:\n",
        "                print(f\"Current details: {student}\")\n",
        "                student.name = input(\"Enter new name: \") or student.name\n",
        "                try:\n",
        "                    student.age = int(input(\"Enter new age: \") or student.age)\n",
        "                except ValueError:\n",
        "                    print(\"Invalid input for age. Keeping the current age.\")\n",
        "                student.grade = input(\"Enter new grade: \") or student.grade\n",
        "                print(\"Student details updated successfully!\")\n",
        "                return\n",
        "        print(\"Student not found.\")\n",
        "\n",
        "    def delete_student(self):\n",
        "        student_id = input(\"Enter Student ID to delete: \")\n",
        "        for student in self.students:\n",
        "            if student.student_id == student_id:\n",
        "                self.students.remove(student)\n",
        "                print(\"Student deleted successfully!\")\n",
        "                return\n",
        "        print(\"Student not found.\")\n",
        "\n",
        "    def run(self):\n",
        "        while True:\n",
        "            print(\"\\nStudent Management System\")\n",
        "            print(\"1. Add Student\")\n",
        "            print(\"2. Display All Students\")\n",
        "            print(\"3. Update Student\")\n",
        "            print(\"4. Delete Student\")\n",
        "            print(\"5. Exit\")\n",
        "\n",
        "            choice = input(\"Enter your choice: \")\n",
        "\n",
        "            if choice == '1':\n",
        "                self.add_student()\n",
        "            elif choice == '2':\n",
        "                self.display_students()\n",
        "            elif choice == '3':\n",
        "                self.update_student()\n",
        "            elif choice == '4':\n",
        "                self.delete_student()\n",
        "            elif choice == '5':\n",
        "                print(\"Exiting the system. Goodbye!\")\n",
        "                break\n",
        "            else:\n",
        "                print(\"Invalid choice. Please try again.\")\n",
        "\n",
        "if __name__ == \"__main__\":\n",
        "    sms = StudentManagementSystem()\n",
        "    sms.run()"
      ],
      "metadata": {
        "id": "805VsSYMy2hL"
      },
      "execution_count": null,
      "outputs": []
    }
  ]
}